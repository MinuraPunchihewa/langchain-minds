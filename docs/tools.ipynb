{
 "cells": [
  {
   "cell_type": "raw",
   "id": "10238e62-3465-4973-9279-606cbb7ccf16",
   "metadata": {},
   "source": [
    "---\n",
    "sidebar_label: AI-Mind\n",
    "---"
   ]
  },
  {
   "cell_type": "markdown",
   "id": "a6f91f20",
   "metadata": {},
   "source": [
    "# AI-Mind\n",
    "\n",
    "[Minds](https://mindsdb.com/minds) are AI systems provided by [MindsDB](https://mindsdb.com/) that work similarly to large language models (LLMs) but go beyond by answering any question from any data. \n",
    "\n",
    "This is accomplished by selecting the most relevant data for an answer using parametric search, understanding the meaning and providing responses within the correct context through semantic search, and finally, delivering precise answers by analyzing data and using machine learning (ML) models.\n",
    "\n",
    "The `AIMindTool` provides access to these Minds through LangChain, allowing their capabilities to be harnessed seamlessly. \n",
    "\n",
    "## Overview\n",
    "\n",
    "### Integration details\n",
    "\n",
    "- TODO: Make sure links and features are correct\n",
    "\n",
    "| Class | Package | Serializable | [JS support](https://js.langchain.com/docs/integrations/tools/langchain_minds) |  Package latest |\n",
    "| :--- | :--- | :---: | :---: | :---: |\n",
    "| [AIMindTool](https://python.langchain.com/v0.2/api_reference/community/tools/langchain_community.tools.langchain_minds.tool.Minds.html) | [langchain-community](https://api.python.langchain.com/en/latest/community_api_reference.html) | beta/❌ | ✅/❌ |  ![PyPI - Version](https://img.shields.io/pypi/v/langchain-community?style=flat-square&label=%20) |\n",
    "\n",
    "### Tool features\n",
    "\n",
    "- TODO: Add feature table if it makes sense\n",
    "\n",
    "\n",
    "## Setup\n",
    "\n",
    "To access Minds via the `AIMindTool`, you'll need to create a Minds account, get an API key, and install the `langchain-minds` integration package."
   ]
  },
  {
   "cell_type": "code",
   "execution_count": null,
   "id": "f85b4089",
   "metadata": {},
   "outputs": [],
   "source": [
    "%pip install --quiet -U langchain-minds"
   ]
  },
  {
   "cell_type": "markdown",
   "id": "b15e9266",
   "metadata": {},
   "source": [
    "### Credentials"
   ]
  },
  {
   "cell_type": "code",
   "execution_count": 2,
   "id": "e0b178a2-8816-40ca-b57c-ccdd86dde9c9",
   "metadata": {},
   "outputs": [],
   "source": [
    "import getpass\n",
    "import os\n",
    "\n",
    "if not os.environ.get(\"MINDS_API_KEY\"):\n",
    "    os.environ[\"MINDS_API_KEY\"] = getpass.getpass(\"MINDS API key:\\n\")"
   ]
  },
  {
   "cell_type": "markdown",
   "id": "1c97218f-f366-479d-8bf7-fe9f2f6df73f",
   "metadata": {},
   "source": [
    "## Instantiation"
   ]
  },
  {
   "cell_type": "code",
   "execution_count": 1,
   "id": "8b3ddfe9-ca79-494c-a7ab-1f56d9407a64",
   "metadata": {},
   "outputs": [
    {
     "ename": "ModuleNotFoundError",
     "evalue": "No module named 'langchain_minds'",
     "output_type": "error",
     "traceback": [
      "\u001b[0;31m---------------------------------------------------------------------------\u001b[0m",
      "\u001b[0;31mModuleNotFoundError\u001b[0m                       Traceback (most recent call last)",
      "Cell \u001b[0;32mIn[1], line 1\u001b[0m\n\u001b[0;32m----> 1\u001b[0m \u001b[38;5;28;01mfrom\u001b[39;00m \u001b[38;5;21;01mlangchain_minds\u001b[39;00m \u001b[38;5;28;01mimport\u001b[39;00m AIMindDataSource, AIMindAPIWrapper, AIMindTool\n\u001b[1;32m      4\u001b[0m \u001b[38;5;66;03m# Create a data source that your Mind will have access to.\u001b[39;00m\n\u001b[1;32m      5\u001b[0m \u001b[38;5;66;03m# To configure additional data sources, simply create additional instances of AIMindDataSource and pass it to the wrapper below.\u001b[39;00m\n\u001b[1;32m      6\u001b[0m datasource \u001b[38;5;241m=\u001b[39m AIMindDataSource(\n\u001b[1;32m      7\u001b[0m     description\u001b[38;5;241m=\u001b[39m\u001b[38;5;124m'\u001b[39m\u001b[38;5;124mhouse sales data\u001b[39m\u001b[38;5;124m'\u001b[39m,\n\u001b[1;32m      8\u001b[0m     engine\u001b[38;5;241m=\u001b[39m\u001b[38;5;124m'\u001b[39m\u001b[38;5;124mpostgres\u001b[39m\u001b[38;5;124m'\u001b[39m,\n\u001b[0;32m   (...)\u001b[0m\n\u001b[1;32m     17\u001b[0m     tables\u001b[38;5;241m=\u001b[39m[\u001b[38;5;124m'\u001b[39m\u001b[38;5;124mhouse_sales\u001b[39m\u001b[38;5;124m'\u001b[39m]\n\u001b[1;32m     18\u001b[0m )\n",
      "\u001b[0;31mModuleNotFoundError\u001b[0m: No module named 'langchain_minds'"
     ]
    }
   ],
   "source": [
    "from langchain_minds import AIMindDataSource, AIMindAPIWrapper, AIMindTool\n",
    "\n",
    "\n",
    "# Create a data source that your Mind will have access to.\n",
    "# To configure additional data sources, simply create additional instances of AIMindDataSource and pass it to the wrapper below.\n",
    "datasource = AIMindDataSource(\n",
    "    description='house sales data',\n",
    "    engine='postgres',\n",
    "    connection_data={\n",
    "        'user': 'demo_user',\n",
    "        'password': 'demo_password',\n",
    "        'host': 'samples.mindsdb.com',\n",
    "        'port': 5432,\n",
    "        'database': 'demo',\n",
    "        'schema': 'demo_data'\n",
    "    },\n",
    "    tables=['house_sales']\n",
    ")\n",
    "\n",
    "# Create the wrapper for the Minds API by passing in the data sources created above.\n",
    "api_wrapper = AIMindAPIWrapper(\n",
    "    datasources=[datasource]\n",
    ")\n",
    "\n",
    "# Create the tool by simply passing in the API wrapper from before.\n",
    "tool = AIMindTool(\n",
    "    api_wrapper=api_wrapper\n",
    ")"
   ]
  },
  {
   "cell_type": "markdown",
   "id": "74147a1a",
   "metadata": {},
   "source": [
    "## Invocation\n",
    "\n",
    "### Invoke directly with args\n",
    "\n",
    "The only required argument to query the `AIMindTool` is `query`, which is a question for the Mind in plain English."
   ]
  },
  {
   "cell_type": "code",
   "execution_count": null,
   "id": "65310a8b-eb0c-4d9e-a618-4f4abe2414fc",
   "metadata": {},
   "outputs": [],
   "source": [
    "tool.invoke({\"query\": \"How many three-bedroom houses were sold in 2008?\"})"
   ]
  },
  {
   "cell_type": "markdown",
   "id": "d6e73897",
   "metadata": {},
   "source": [
    "### Invoke with ToolCall\n",
    "\n",
    "We can also invoke the tool with a model-generated ToolCall, in which case a ToolMessage will be returned."
   ]
  },
  {
   "cell_type": "code",
   "execution_count": null,
   "id": "f90e33a7",
   "metadata": {},
   "outputs": [],
   "source": [
    "# This is usually generated by a model, but we'll create a tool call directly for demo purposes.\n",
    "model_generated_tool_call = {\n",
    "    \"args\": {\"query\": \"How many three-bedroom houses were sold in 2008?\"},\n",
    "    \"id\": \"1\",\n",
    "    \"name\": tool.name,\n",
    "    \"type\": \"tool_call\",\n",
    "}\n",
    "tool.invoke(model_generated_tool_call)"
   ]
  },
  {
   "cell_type": "markdown",
   "id": "659f9fbd-6fcf-445f-aa8c-72d8e60154bd",
   "metadata": {},
   "source": [
    "## Chaining\n",
    "\n",
    "- TODO: Add user question and run cells\n",
    "\n",
    "We can use our tool in a chain by first binding it to a [tool-calling model](/docs/how_to/tool_calling/) and then calling it:\n",
    "\n",
    "import ChatModelTabs from \"@theme/ChatModelTabs\";\n",
    "\n",
    "<ChatModelTabs customVarName=\"llm\" />\n"
   ]
  },
  {
   "cell_type": "code",
   "execution_count": 16,
   "id": "af3123ad-7a02-40e5-b58e-7d56e23e5830",
   "metadata": {},
   "outputs": [],
   "source": [
    "# | output: false\n",
    "# | echo: false\n",
    "\n",
    "# !pip install -qU langchain langchain-openai\n",
    "from langchain.chat_models import init_chat_model\n",
    "\n",
    "llm = init_chat_model(model=\"gpt-4o\", model_provider=\"openai\")"
   ]
  },
  {
   "cell_type": "code",
   "execution_count": null,
   "id": "fdbf35b5-3aaf-4947-9ec6-48c21533fb95",
   "metadata": {},
   "outputs": [],
   "source": [
    "from langchain_core.prompts import ChatPromptTemplate\n",
    "from langchain_core.runnables import RunnableConfig, chain\n",
    "\n",
    "prompt = ChatPromptTemplate(\n",
    "    [\n",
    "        (\"system\", \"You are a helpful assistant.\"),\n",
    "        (\"human\", \"{user_input}\"),\n",
    "        (\"placeholder\", \"{messages}\"),\n",
    "    ]\n",
    ")\n",
    "\n",
    "# specifying tool_choice will force the model to call this tool.\n",
    "llm_with_tools = llm.bind_tools([tool], tool_choice=tool.name)\n",
    "\n",
    "llm_chain = prompt | llm_with_tools\n",
    "\n",
    "\n",
    "@chain\n",
    "def tool_chain(user_input: str, config: RunnableConfig):\n",
    "    input_ = {\"user_input\": user_input}\n",
    "    ai_msg = llm_chain.invoke(input_, config=config)\n",
    "    tool_msgs = tool.batch(ai_msg.tool_calls, config=config)\n",
    "    return llm_chain.invoke({**input_, \"messages\": [ai_msg, *tool_msgs]}, config=config)\n",
    "\n",
    "\n",
    "tool_chain.invoke(\"...\")"
   ]
  },
  {
   "cell_type": "markdown",
   "id": "4ac8146c",
   "metadata": {},
   "source": [
    "## API reference\n",
    "\n",
    "For detailed documentation of all Minds features and configurations head to the API reference: https://python.langchain.com/v0.2/api_reference/community/tools/langchain_community.tools.langchain_minds.tool.Minds.html"
   ]
  }
 ],
 "metadata": {
  "kernelspec": {
   "display_name": "Python 3 (ipykernel)",
   "language": "python",
   "name": "python3"
  },
  "language_info": {
   "codemirror_mode": {
    "name": "ipython",
    "version": 3
   },
   "file_extension": ".py",
   "mimetype": "text/x-python",
   "name": "python",
   "nbconvert_exporter": "python",
   "pygments_lexer": "ipython3",
   "version": "3.11.4"
  }
 },
 "nbformat": 4,
 "nbformat_minor": 5
}
