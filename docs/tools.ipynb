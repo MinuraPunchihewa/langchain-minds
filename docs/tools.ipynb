{
 "cells": [
  {
   "cell_type": "raw",
   "id": "10238e62-3465-4973-9279-606cbb7ccf16",
   "metadata": {},
   "source": [
    "---\n",
    "sidebar_label: AI-Mind\n",
    "---"
   ]
  },
  {
   "cell_type": "markdown",
   "id": "a6f91f20",
   "metadata": {},
   "source": [
    "# AI-Mind\n",
    "\n",
    "[Minds](https://mindsdb.com/minds) are AI systems provided by [MindsDB](https://mindsdb.com/) that work similarly to large language models (LLMs) but go beyond by answering any question from any data. \n",
    "\n",
    "This is accomplished by selecting the most relevant data for an answer using parametric search, understanding the meaning and providing responses within the correct context through semantic search, and finally, delivering precise answers by analyzing data and using machine learning (ML) models.\n",
    "\n",
    "The `AIMindTool` can be used to query data sources in natural language via LangChain by simply configuring their connection parameters.\n",
    "\n",
    "## Overview\n",
    "\n",
    "### Integration details\n",
    "\n",
    "- TODO: Make sure links and features are correct\n",
    "\n",
    "\n",
    "### Tool features\n",
    "\n",
    "- TODO: Add feature table if it makes sense\n",
    "\n",
    "\n",
    "## Setup\n",
    "\n",
    "To access Minds via the `AIMindTool`, you'll need to create a Minds account, get an API key, and install the `langchain-minds` integration package."
   ]
  },
  {
   "cell_type": "code",
   "execution_count": null,
   "id": "f85b4089",
   "metadata": {},
   "outputs": [],
   "source": [
    "%pip install --quiet -U langchain-minds"
   ]
  },
  {
   "cell_type": "markdown",
   "id": "b15e9266",
   "metadata": {},
   "source": [
    "### Credentials"
   ]
  },
  {
   "cell_type": "code",
   "execution_count": 1,
   "id": "e0b178a2-8816-40ca-b57c-ccdd86dde9c9",
   "metadata": {},
   "outputs": [],
   "source": [
    "import getpass\n",
    "import os\n",
    "\n",
    "if not os.environ.get(\"MINDS_API_KEY\"):\n",
    "    os.environ[\"MINDS_API_KEY\"] = getpass.getpass(\"MINDS API key:\\n\")\n",
    "\n",
    "if not os.environ.get(\"POSTGRES_PASSWORD\"):\n",
    "    os.environ[\"POSTGRES_PASSWORD\"] = getpass.getpass(\"Postgres password:\\n\")"
   ]
  },
  {
   "cell_type": "markdown",
   "id": "1c97218f-f366-479d-8bf7-fe9f2f6df73f",
   "metadata": {},
   "source": [
    "## Instantiation"
   ]
  },
  {
   "cell_type": "code",
   "execution_count": 2,
   "id": "8b3ddfe9-ca79-494c-a7ab-1f56d9407a64",
   "metadata": {},
   "outputs": [
    {
     "name": "stderr",
     "output_type": "stream",
     "text": [
      "/home/minura/anaconda3/envs/langchain_minds/lib/python3.10/site-packages/pydantic/_internal/_fields.py:161: UserWarning: Field \"model_name\" has conflict with protected namespace \"model_\".\n",
      "\n",
      "You may be able to resolve this warning by setting `model_config['protected_namespaces'] = ()`.\n",
      "  warnings.warn(\n"
     ]
    }
   ],
   "source": [
    "from langchain_minds import AIMindDataSource, AIMindEnvVar, AIMindAPIWrapper, AIMindTool\n",
    "\n",
    "\n",
    "# Create a data source that your Mind will have access to.\n",
    "# This will create a new data source using the connection data provided with the given name.\n",
    "# To configure additional data sources, simply create additional instances of\n",
    "# AIMindDataSource and pass it to the wrapper below.\n",
    "datasource = AIMindDataSource(\n",
    "    name=\"demo_datasource\",\n",
    "    description=\"house sales data\",\n",
    "    engine=\"postgres\",\n",
    "    connection_data={\n",
    "        \"user\": 'demo_user',\n",
    "        \"password\": AIMindEnvVar('POSTGRES_PASSWORD', is_secret=True), # Use an environment variable for the password.\n",
    "        \"host\": \"samples.mindsdb.com\",\n",
    "        \"port\": 5432,\n",
    "        \"database\": \"demo\",\n",
    "        \"schema\": \"demo_data\"\n",
    "    },\n",
    "    tables=['house_sales']\n",
    ")\n",
    "\n",
    "# NOTE: Feel free to use the above connection data as is! It's our demo database open to the public.\n",
    "# The password is \"demo_password\".\n",
    "\n",
    "# To re-use an existing data source, simply provide the name of the data source without any other parameters.\n",
    "# datasource = AIMindDataSource(\n",
    "#     name=\"demo_datasource\",\n",
    "# )\n",
    "\n",
    "# Create the wrapper for the Minds API by giving the Mind a name and passing in the data sources created above.\n",
    "# This will create a new Mind with the given name and access to the data sources.\n",
    "api_wrapper = AIMindAPIWrapper(\n",
    "    name=\"demo_mind\",\n",
    "    datasources=[datasource]\n",
    ")\n",
    "\n",
    "# To re-use an existing Mind, simply provide the name of the Mind without any data sources.\n",
    "# aimind_tool = AIMindAPIWrapper(\n",
    "#     name=\"demo_mind\",\n",
    "# )\n",
    "\n",
    "# Create the tool by simply passing in the API wrapper from before.\n",
    "tool = AIMindTool(\n",
    "    api_wrapper=api_wrapper\n",
    ")"
   ]
  },
  {
   "cell_type": "markdown",
   "id": "74147a1a",
   "metadata": {},
   "source": [
    "## Invocation\n",
    "\n",
    "### Invoke directly with args\n",
    "\n",
    "The only required argument to query the `AIMindTool` is `query`, which is a question for the Mind in plain English."
   ]
  },
  {
   "cell_type": "code",
   "execution_count": 3,
   "id": "65310a8b-eb0c-4d9e-a618-4f4abe2414fc",
   "metadata": {},
   "outputs": [
    {
     "data": {
      "text/plain": [
       "'The number of three-bedroom houses sold in 2008 was 8.'"
      ]
     },
     "execution_count": 3,
     "metadata": {},
     "output_type": "execute_result"
    }
   ],
   "source": [
    "tool.invoke({\"query\": \"How many three-bedroom houses were sold in 2008?\"})"
   ]
  },
  {
   "cell_type": "markdown",
   "id": "d6e73897",
   "metadata": {},
   "source": [
    "### Invoke with ToolCall\n",
    "\n",
    "We can also invoke the tool with a model-generated ToolCall, in which case a ToolMessage will be returned."
   ]
  },
  {
   "cell_type": "code",
   "execution_count": 4,
   "id": "f90e33a7",
   "metadata": {},
   "outputs": [
    {
     "data": {
      "text/plain": [
       "ToolMessage(content='The query has been executed successfully. A total of 8 three-bedroom houses were sold in 2008.', name='ai_mind', tool_call_id='1')"
      ]
     },
     "execution_count": 4,
     "metadata": {},
     "output_type": "execute_result"
    }
   ],
   "source": [
    "# This is usually generated by a model, but we'll create a tool call directly for demo purposes.\n",
    "model_generated_tool_call = {\n",
    "    \"args\": {\"query\": \"How many three-bedroom houses were sold in 2008?\"},\n",
    "    \"id\": \"1\",\n",
    "    \"name\": tool.name,\n",
    "    \"type\": \"tool_call\",\n",
    "}\n",
    "tool.invoke(model_generated_tool_call)"
   ]
  },
  {
   "cell_type": "markdown",
   "id": "659f9fbd-6fcf-445f-aa8c-72d8e60154bd",
   "metadata": {},
   "source": [
    "## Chaining\n",
    "\n",
    "- TODO: Add example of using the tool with a tool calling model in a chain\n"
   ]
  },
  {
   "cell_type": "markdown",
   "id": "4ac8146c",
   "metadata": {},
   "source": [
    "## API reference\n",
    "\n",
    "For detailed documentation of all Minds features and configurations head to the API reference: \n",
    "- TODO: add API reference link"
   ]
  }
 ],
 "metadata": {
  "kernelspec": {
   "display_name": "langchain_minds",
   "language": "python",
   "name": "python3"
  },
  "language_info": {
   "codemirror_mode": {
    "name": "ipython",
    "version": 3
   },
   "file_extension": ".py",
   "mimetype": "text/x-python",
   "name": "python",
   "nbconvert_exporter": "python",
   "pygments_lexer": "ipython3",
   "version": "3.10.16"
  }
 },
 "nbformat": 4,
 "nbformat_minor": 5
}
